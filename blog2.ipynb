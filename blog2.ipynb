{
  "nbformat": 4,
  "nbformat_minor": 0,
  "metadata": {
    "colab": {
      "provenance": []
    },
    "kernelspec": {
      "name": "python3",
      "display_name": "Python 3"
    },
    "language_info": {
      "name": "python"
    }
  },
  "cells": [
    {
      "cell_type": "markdown",
      "source": [
        "# Convert Image into Video having Audio\n",
        "\n",
        "Requirements:\n",
        "\n",
        "1. Image\n",
        "\n",
        "2. Audio file\n",
        "\n"
      ],
      "metadata": {
        "id": "XfhhmUoXhwMg"
      }
    },
    {
      "cell_type": "markdown",
      "source": [
        "**Library requirement**"
      ],
      "metadata": {
        "id": "2PbxO8c2i7OD"
      }
    },
    {
      "cell_type": "code",
      "source": [
        "pip install opencv-python"
      ],
      "metadata": {
        "id": "x2VZ0SAyh2ma"
      },
      "execution_count": null,
      "outputs": []
    },
    {
      "cell_type": "code",
      "source": [
        "pip install moviepy"
      ],
      "metadata": {
        "id": "GIfKltvFivGQ"
      },
      "execution_count": null,
      "outputs": []
    },
    {
      "cell_type": "markdown",
      "source": [
        "Code:"
      ],
      "metadata": {
        "id": "trW3XuaMkFmD"
      }
    },
    {
      "cell_type": "code",
      "source": [
        "# create video from images\n",
        "from moviepy.editor import VideoClip, AudioFileClip\n",
        "import numpy as np\n",
        "import cv2\n",
        "\n",
        "# Define video parameters\n",
        "duration = 15  # Duration of the video in seconds\n",
        "frame_rate = 24  # Frames per second\n",
        "\n",
        "# Load the image\n",
        "image = cv2.imread('Image Path')\n",
        "\n",
        "# Define a function to generate video frames\n",
        "def make_frame(t):\n",
        "    # You can manipulate the image here if needed\n",
        "    return image\n",
        "\n",
        "# Create the video clip\n",
        "video_clip = VideoClip(make_frame, duration=duration)\n",
        "\n",
        "# Load the audio\n",
        "audio = AudioFileClip('Audio Path')\n",
        "\n",
        "# Set the audio of the video clip\n",
        "video_clip = video_clip.set_audio(audio)\n",
        "\n",
        "# Export the video\n",
        "video_clip.write_videofile('output_video.mp4', fps=frame_rate) # this is the name of the video file"
      ],
      "metadata": {
        "id": "WVR1F7qyjE1-"
      },
      "execution_count": null,
      "outputs": []
    },
    {
      "cell_type": "markdown",
      "source": [
        "Feel Free to ask any Query\n",
        "\n",
        "                                                        @abhilashgaurav"
      ],
      "metadata": {
        "id": "qV6Pk9hL9CSp"
      }
    }
  ]
}